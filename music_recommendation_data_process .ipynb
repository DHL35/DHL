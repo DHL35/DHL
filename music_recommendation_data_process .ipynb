{
 "cells": [
  {
   "cell_type": "code",
   "execution_count": 1,
   "metadata": {},
   "outputs": [],
   "source": [
    "# import packages\n",
    "\n",
    "import datetime\n",
    "import numpy as np \n",
    "import pandas as pd \n",
    "import matplotlib.pyplot as plt\n",
    "%matplotlib inline\n",
    "pd.options.display.max_rows=200\n",
    "import numpy as np      \n",
    "import pandas as pd\n",
    "import matplotlib.pyplot as plt\n",
    "import seaborn as sns\n",
    "\n",
    "import gc\n",
    "\n",
    "\n",
    "from sklearn.metrics import precision_recall_curve,roc_auc_score,classification_report,roc_curve\n",
    "from tqdm import tqdm"
   ]
  },
  {
   "cell_type": "code",
   "execution_count": 2,
   "metadata": {},
   "outputs": [],
   "source": [
    "train = pd.read_csv('./train_merged.csv')\n",
    "test = pd.read_csv('./test_merged.csv')"
   ]
  },
  {
   "cell_type": "code",
   "execution_count": 3,
   "metadata": {},
   "outputs": [
    {
     "name": "stdout",
     "output_type": "stream",
     "text": [
      "<class 'pandas.core.frame.DataFrame'>\n",
      "RangeIndex: 7377418 entries, 0 to 7377417\n",
      "Data columns (total 26 columns):\n",
      "msno                  object\n",
      "song_id               object\n",
      "source_system_tab     object\n",
      "source_screen_name    object\n",
      "source_type           object\n",
      "target                int64\n",
      "city                  int64\n",
      "age                   float64\n",
      "gender                object\n",
      "registered_via        int64\n",
      "registration_year     int64\n",
      "registration_month    int64\n",
      "expiration_year       int64\n",
      "expiration_month      int64\n",
      "days                  int64\n",
      "age_range             object\n",
      "song_length           float64\n",
      "genre_ids             object\n",
      "artist_name           object\n",
      "composer              object\n",
      "lyricist              object\n",
      "language              float64\n",
      "name                  object\n",
      "country               object\n",
      "publisher             object\n",
      "year_released         float64\n",
      "dtypes: float64(4), int64(8), object(14)\n",
      "memory usage: 1.4+ GB\n"
     ]
    }
   ],
   "source": [
    "train.info()"
   ]
  },
  {
   "cell_type": "code",
   "execution_count": 4,
   "metadata": {},
   "outputs": [
    {
     "name": "stdout",
     "output_type": "stream",
     "text": [
      "<class 'pandas.core.frame.DataFrame'>\n",
      "RangeIndex: 2556790 entries, 0 to 2556789\n",
      "Data columns (total 26 columns):\n",
      "id                    int64\n",
      "msno                  object\n",
      "song_id               object\n",
      "source_system_tab     object\n",
      "source_screen_name    object\n",
      "source_type           object\n",
      "city                  int64\n",
      "age                   float64\n",
      "gender                object\n",
      "registered_via        int64\n",
      "registration_year     int64\n",
      "registration_month    int64\n",
      "expiration_year       int64\n",
      "expiration_month      int64\n",
      "days                  int64\n",
      "age_range             object\n",
      "song_length           float64\n",
      "genre_ids             object\n",
      "artist_name           object\n",
      "composer              object\n",
      "lyricist              object\n",
      "language              float64\n",
      "name                  object\n",
      "country               object\n",
      "publisher             object\n",
      "year_released         float64\n",
      "dtypes: float64(4), int64(8), object(14)\n",
      "memory usage: 507.2+ MB\n"
     ]
    }
   ],
   "source": [
    "test.info()"
   ]
  },
  {
   "cell_type": "code",
   "execution_count": 5,
   "metadata": {},
   "outputs": [],
   "source": [
    "# missing data"
   ]
  },
  {
   "cell_type": "code",
   "execution_count": 6,
   "metadata": {},
   "outputs": [
    {
     "data": {
      "text/plain": [
       "msno                        0\n",
       "song_id                     0\n",
       "source_system_tab       24849\n",
       "source_screen_name     414804\n",
       "source_type             21539\n",
       "target                      0\n",
       "city                        0\n",
       "age                   2940499\n",
       "gender                2961479\n",
       "registered_via              0\n",
       "registration_year           0\n",
       "registration_month          0\n",
       "expiration_year             0\n",
       "expiration_month            0\n",
       "days                        0\n",
       "age_range             2947202\n",
       "song_length               114\n",
       "genre_ids              118455\n",
       "artist_name               114\n",
       "composer              1675706\n",
       "lyricist              3178798\n",
       "language                  150\n",
       "name                     1571\n",
       "country                577963\n",
       "publisher              577963\n",
       "year_released          577963\n",
       "dtype: int64"
      ]
     },
     "execution_count": 6,
     "metadata": {},
     "output_type": "execute_result"
    }
   ],
   "source": [
    "train.isnull().sum()"
   ]
  },
  {
   "cell_type": "code",
   "execution_count": 7,
   "metadata": {},
   "outputs": [
    {
     "data": {
      "text/plain": [
       "msno                   0.000000\n",
       "song_id                0.000000\n",
       "source_system_tab      0.336825\n",
       "source_screen_name     5.622618\n",
       "source_type            0.291959\n",
       "target                 0.000000\n",
       "city                   0.000000\n",
       "age                   39.858105\n",
       "gender                40.142486\n",
       "registered_via         0.000000\n",
       "registration_year      0.000000\n",
       "registration_month     0.000000\n",
       "expiration_year        0.000000\n",
       "expiration_month       0.000000\n",
       "days                   0.000000\n",
       "age_range             39.948963\n",
       "song_length            0.001545\n",
       "genre_ids              1.605643\n",
       "artist_name            0.001545\n",
       "composer              22.713990\n",
       "lyricist              43.088219\n",
       "language               0.002033\n",
       "name                   0.021295\n",
       "country                7.834218\n",
       "publisher              7.834218\n",
       "year_released          7.834218\n",
       "dtype: float64"
      ]
     },
     "execution_count": 7,
     "metadata": {},
     "output_type": "execute_result"
    }
   ],
   "source": [
    "train.isnull().sum()/train.isnull().count()*100"
   ]
  },
  {
   "cell_type": "code",
   "execution_count": 8,
   "metadata": {},
   "outputs": [
    {
     "data": {
      "text/plain": [
       "id                          0\n",
       "msno                        0\n",
       "song_id                     0\n",
       "source_system_tab        8442\n",
       "source_screen_name     162883\n",
       "source_type              7297\n",
       "city                        0\n",
       "age                   1043221\n",
       "gender                1052224\n",
       "registered_via              0\n",
       "registration_year           0\n",
       "registration_month          0\n",
       "expiration_year             0\n",
       "expiration_month            0\n",
       "days                        0\n",
       "age_range             1046316\n",
       "song_length                25\n",
       "genre_ids               42110\n",
       "artist_name                25\n",
       "composer               619304\n",
       "lyricist              1224744\n",
       "language                   42\n",
       "name                      803\n",
       "country                196665\n",
       "publisher              196665\n",
       "year_released          196665\n",
       "dtype: int64"
      ]
     },
     "execution_count": 8,
     "metadata": {},
     "output_type": "execute_result"
    }
   ],
   "source": [
    "test.isnull().sum()"
   ]
  },
  {
   "cell_type": "code",
   "execution_count": 9,
   "metadata": {},
   "outputs": [
    {
     "name": "stdout",
     "output_type": "stream",
     "text": [
      " 3.0     4044643\n",
      " 52.0    1864789\n",
      " 31.0     656623\n",
      "-1.0      308752\n",
      " 17.0     245136\n",
      " 10.0     171904\n",
      " 24.0      78621\n",
      " 59.0       4193\n",
      " 45.0       2397\n",
      " 38.0        210\n",
      "Name: language, dtype: int64\n"
     ]
    }
   ],
   "source": [
    "# for language (150 missing value)\n",
    "print(train['language'].value_counts())"
   ]
  },
  {
   "cell_type": "code",
   "execution_count": 10,
   "metadata": {},
   "outputs": [
    {
     "data": {
      "text/plain": [
       "<matplotlib.axes._subplots.AxesSubplot at 0x1a6f4a2b70>"
      ]
     },
     "execution_count": 10,
     "metadata": {},
     "output_type": "execute_result"
    },
    {
     "data": {
      "image/png": "[encoded data removed]",
      "text/plain": [
       "<Figure size 432x288 with 1 Axes>"
      ]
     },
     "metadata": {
      "needs_background": "light"
     },
     "output_type": "display_data"
    }
   ],
   "source": [
    "#plt.figure(figsize=(10,10))\n",
    "sns.countplot(train['language'],hue=train['target'])"
   ]
  },
  {
   "cell_type": "code",
   "execution_count": 11,
   "metadata": {},
   "outputs": [
    {
     "name": "stdout",
     "output_type": "stream",
     "text": [
      "From the above table, we can see that most of songs have many other missing values like composer, name, and other infomation related to the song except one song named 'White T shirt'. in addition, we can see that most songs are from local library, local playlist, and album. this may cause their lack of infomation \n"
     ]
    }
   ],
   "source": [
    "# check the 150 missing value of language\n",
    "\n",
    "language_null=train[train.language.isnull().values==True]\n",
    "language_null\n",
    "\n",
    "print(\"From the above table, we can see that most of songs have many other missing values like composer, name, and other infomation related to the song except one song named 'White T shirt'. in addition, we can see that most songs are from local library, local playlist, and album. this may cause their lack of infomation \")"
   ]
  },
  {
   "cell_type": "code",
   "execution_count": 12,
   "metadata": {},
   "outputs": [
    {
     "data": {
      "text/plain": [
       "<matplotlib.axes._subplots.AxesSubplot at 0x1a17e4d320>"
      ]
     },
     "execution_count": 12,
     "metadata": {},
     "output_type": "execute_result"
    },
    {
     "data": {
      "image/png": "[encoded data removed]",
      "text/plain": [
       "<Figure size 720x432 with 1 Axes>"
      ]
     },
     "metadata": {
      "needs_background": "light"
     },
     "output_type": "display_data"
    }
   ],
   "source": [
    "plt.figure(figsize=(10,6))\n",
    "sns.countplot(language_null['source_type'],hue=language_null['target'])\n"
   ]
  },
  {
   "cell_type": "code",
   "execution_count": 13,
   "metadata": {},
   "outputs": [],
   "source": [
    "train.language=train.language.fillna(0).astype(np.int16)\n",
    "test.language=test.language.fillna(0).astype(np.int16)"
   ]
  },
  {
   "cell_type": "code",
   "execution_count": 14,
   "metadata": {},
   "outputs": [
    {
     "name": "stdout",
     "output_type": "stream",
     "text": [
      "245120.9693600806\n",
      "243843.54204551454\n",
      "0    235415.0\n",
      "dtype: float64\n",
      "0    234161.0\n",
      "dtype: float64\n"
     ]
    }
   ],
   "source": [
    "#### for song_length\n",
    "print(train.song_length.mean())\n",
    "print(test.song_length.mean())\n",
    "print(train.song_length.mode())\n",
    "print(test.song_length.mode())"
   ]
  },
  {
   "cell_type": "code",
   "execution_count": 15,
   "metadata": {},
   "outputs": [],
   "source": [
    "train.song_length.fillna(237000,inplace=True)\n",
    "train.song_length = train.song_length.astype(np.int64)\n",
    "\n",
    "test.song_length.fillna(236000,inplace=True)\n",
    "test.song_length = test.song_length.astype(np.int64)\n",
    "\n"
   ]
  },
  {
   "cell_type": "code",
   "execution_count": 16,
   "metadata": {},
   "outputs": [
    {
     "name": "stdout",
     "output_type": "stream",
     "text": [
      "0.001049960839957828\n",
      "0.001300849893812163\n"
     ]
    }
   ],
   "source": [
    "print(len(train.query(\"age< 5 or age >90\")) / len(train))\n",
    "print(len(test.query(\"age< 5 or age >90\")) / len(test))\n",
    "#train = train.query(\"age>= 5 and age <=90\")\n",
    "#test = test.query(\"age>= 5 and age <=90\")"
   ]
  },
  {
   "cell_type": "code",
   "execution_count": 17,
   "metadata": {},
   "outputs": [],
   "source": [
    "train[train.age>90] = 90\n",
    "\n",
    "train[train.age<0]=0\n",
    "train[train.age<5]=0"
   ]
  },
  {
   "cell_type": "code",
   "execution_count": 18,
   "metadata": {},
   "outputs": [],
   "source": [
    "test[test.age>90] = 90\n",
    "\n",
    "test[test.age<0]=0\n",
    "test[test.age<5]=0"
   ]
  },
  {
   "cell_type": "code",
   "execution_count": null,
   "metadata": {},
   "outputs": [],
   "source": []
  },
  {
   "cell_type": "code",
   "execution_count": 19,
   "metadata": {},
   "outputs": [
    {
     "data": {
      "text/plain": [
       "0    25.0\n",
       "dtype: float64"
      ]
     },
     "execution_count": 19,
     "metadata": {},
     "output_type": "execute_result"
    }
   ],
   "source": [
    "train.age.mode()"
   ]
  },
  {
   "cell_type": "code",
   "execution_count": 20,
   "metadata": {},
   "outputs": [
    {
     "data": {
      "text/plain": [
       "28.809896912700008"
      ]
     },
     "execution_count": 20,
     "metadata": {},
     "output_type": "execute_result"
    }
   ],
   "source": [
    "train.age.mean()"
   ]
  },
  {
   "cell_type": "code",
   "execution_count": 21,
   "metadata": {},
   "outputs": [
    {
     "data": {
      "text/plain": [
       "0    26.0\n",
       "dtype: float64"
      ]
     },
     "execution_count": 21,
     "metadata": {},
     "output_type": "execute_result"
    }
   ],
   "source": [
    "test.age.mode()"
   ]
  },
  {
   "cell_type": "code",
   "execution_count": 22,
   "metadata": {},
   "outputs": [
    {
     "data": {
      "text/plain": [
       "28.985749576002153"
      ]
     },
     "execution_count": 22,
     "metadata": {},
     "output_type": "execute_result"
    }
   ],
   "source": [
    "test.age.mean()"
   ]
  },
  {
   "cell_type": "code",
   "execution_count": 23,
   "metadata": {},
   "outputs": [],
   "source": [
    "train.age=train.age.fillna(25)\n",
    "test.age=test.age.fillna(26)"
   ]
  },
  {
   "cell_type": "code",
   "execution_count": 24,
   "metadata": {},
   "outputs": [
    {
     "data": {
      "text/plain": [
       "<matplotlib.axes._subplots.AxesSubplot at 0x1a94632f28>"
      ]
     },
     "execution_count": 24,
     "metadata": {},
     "output_type": "execute_result"
    },
    {
     "data": {
      "image/png": "[encoded data removed]",
      "text/plain": [
       "<Figure size 576x360 with 1 Axes>"
      ]
     },
     "metadata": {
      "needs_background": "light"
     },
     "output_type": "display_data"
    }
   ],
   "source": [
    "#### age_range\n",
    "train['age_range'] = pd.cut(train['age'],bins=[-2,10,18,22,26,35,45,55,75,95])\n",
    "\n",
    "plt.figure(figsize=(8,5))\n",
    "sns.countplot(train['age_range'])"
   ]
  },
  {
   "cell_type": "code",
   "execution_count": 25,
   "metadata": {
    "scrolled": true
   },
   "outputs": [
    {
     "data": {
      "text/plain": [
       "<matplotlib.axes._subplots.AxesSubplot at 0x1a3f057828>"
      ]
     },
     "execution_count": 25,
     "metadata": {},
     "output_type": "execute_result"
    },
    {
     "data": {
      "image/png": "[encoded data removed]",
      "text/plain": [
       "<Figure size 576x360 with 1 Axes>"
      ]
     },
     "metadata": {
      "needs_background": "light"
     },
     "output_type": "display_data"
    }
   ],
   "source": [
    "#### age_range\n",
    "test['age_range'] = pd.cut(test['age'],bins=[-2,10,18,22,26,35,45,55,75,95])\n",
    "\n",
    "plt.figure(figsize=(8,5))\n",
    "sns.countplot(test['age_range'])"
   ]
  },
  {
   "cell_type": "code",
   "execution_count": null,
   "metadata": {},
   "outputs": [],
   "source": []
  },
  {
   "cell_type": "code",
   "execution_count": 26,
   "metadata": {},
   "outputs": [
    {
     "name": "stdout",
     "output_type": "stream",
     "text": [
      "2961284\n"
     ]
    }
   ],
   "source": [
    "### gender\n",
    "print(train.gender.isnull().sum())\n",
    "\n",
    "## since gender is personal infomation, and cannot gain from other given infomation, fill with 'unknwon' might work.\n",
    "\n",
    "train.gender=train.gender.fillna('unknwon')\n",
    "test.gender=test.gender.fillna('unknwon')"
   ]
  },
  {
   "cell_type": "code",
   "execution_count": 27,
   "metadata": {},
   "outputs": [
    {
     "name": "stdout",
     "output_type": "stream",
     "text": [
      "22\n",
      "24\n",
      "['Explore' 'Local playlist more' nan 'My library' 'Online playlist more'\n",
      " 'Album more' 'Discover Feature' 'Unknown' 'Discover Chart' 'Radio'\n",
      " 'Artist more' 'Search' 'Others profile more' 'Search Trends'\n",
      " 'Discover Genre' 'My library_Search' 'Search Home' 'Discover New' 0 90\n",
      " 'Self profile more' 'Concert' 'Payment']\n",
      "['Local playlist more' nan 'Radio' 'Online playlist more' 'Artist more'\n",
      " 'Discover Genre' 'Album more' 'Discover Chart' 'Discover Feature'\n",
      " 'Search' 'Unknown' 'Explore' 'Others profile more' 'My library'\n",
      " 'My library_Search' 'Search Trends' 'Discover New' 'Search Home' 90 0\n",
      " 'Payment' 'Self profile more' 'People local' 'Concert' 'People global']\n"
     ]
    }
   ],
   "source": [
    "####### source_screen_name¶\n",
    "print(train.source_screen_name.nunique())\n",
    "print(test.source_screen_name.nunique())\n",
    "\n",
    "print(train.source_screen_name.unique())\n",
    "print(test.source_screen_name.unique())\n",
    "\n"
   ]
  },
  {
   "cell_type": "code",
   "execution_count": 28,
   "metadata": {},
   "outputs": [
    {
     "name": "stdout",
     "output_type": "stream",
     "text": [
      "there are 2 more categories in test set: people local and people global. therefore, the missing value can be replaced by other_sources. and the two extra categories in test set can be replaced as well.\n"
     ]
    }
   ],
   "source": [
    "\n",
    "print(\"there are 2 more categories in test set: people local and people global. therefore, the missing value can be replaced by other_sources. and the two extra categories in test set can be replaced as well.\")\n"
   ]
  },
  {
   "cell_type": "code",
   "execution_count": 29,
   "metadata": {},
   "outputs": [],
   "source": [
    "train.source_screen_name = train.source_screen_name.fillna('other_sources')\n",
    "test.source_screen_name = test.source_screen_name.fillna('other_sources')\n",
    "\n",
    "test['source_screen_name'] = test['source_screen_name'].replace(['People local', 'People global'], 'other_sources')"
   ]
  },
  {
   "cell_type": "code",
   "execution_count": 30,
   "metadata": {},
   "outputs": [
    {
     "name": "stdout",
     "output_type": "stream",
     "text": [
      "14\n",
      "14\n",
      "['online-playlist' 'local-playlist' 'local-library' 'top-hits-for-artist'\n",
      " 'album' nan 'song-based-playlist' 'radio' 'song' 'listen-with' 'artist' 0\n",
      " 90 'topic-article-playlist' 'my-daily-playlist']\n",
      "['local-library' 'song-based-playlist' 'radio' 'local-playlist'\n",
      " 'online-playlist' 'top-hits-for-artist' 'album' 'song' 'listen-with'\n",
      " 'my-daily-playlist' 'topic-article-playlist' nan 'artist' 90 0]\n"
     ]
    }
   ],
   "source": [
    "#### source_type\n",
    "\n",
    "print(train.source_type.nunique())\n",
    "print(test.source_type.nunique())\n",
    "\n",
    "print(train.source_type.unique())\n",
    "print(test.source_type.unique())\n"
   ]
  },
  {
   "cell_type": "code",
   "execution_count": 31,
   "metadata": {},
   "outputs": [
    {
     "name": "stdout",
     "output_type": "stream",
     "text": [
      "there is no difference between train set and test set, besides, both of them has 'nan' value,  so it can replaced by 'other_tpyes'.\n"
     ]
    }
   ],
   "source": [
    "\n",
    "print(\"there is no difference between train set and test set, besides, both of them has 'nan' value,  so it can replaced by 'other_tpyes'.\")\n",
    "train.source_type = train.source_type.fillna('other_sources')\n",
    "test.source_type = test.source_type.fillna('other_sources')\n"
   ]
  },
  {
   "cell_type": "code",
   "execution_count": 32,
   "metadata": {},
   "outputs": [
    {
     "name": "stdout",
     "output_type": "stream",
     "text": [
      "10\n",
      "10\n",
      "['explore' 'my library' 'search' 'discover' nan 'radio' 'listen with'\n",
      " 'notification' 0 90 'settings']\n",
      "['my library' 'discover' 'radio' 'search' 'listen with' 'explore'\n",
      " 'settings' nan 'notification' 90 0]\n",
      "similarly, there is no difference between train set and test set,so i replace them by 'other_system'.\n"
     ]
    }
   ],
   "source": [
    "##### source_system\n",
    "print(train.source_system_tab.nunique())\n",
    "print(test.source_system_tab.nunique())\n",
    "\n",
    "print(train.source_system_tab.unique())\n",
    "print(test.source_system_tab.unique())\n",
    "\n",
    "print(\"similarly, there is no difference between train set and test set,so i replace them by 'other_system'.\")\n",
    "\n",
    "train.source_system_tab = train.source_system_tab.fillna('other_system')\n",
    "test.source_system_tab = test.source_system_tab.fillna('other_system')\n"
   ]
  },
  {
   "cell_type": "code",
   "execution_count": 33,
   "metadata": {},
   "outputs": [
    {
     "name": "stdout",
     "output_type": "stream",
     "text": [
      "574\n",
      "503\n"
     ]
    }
   ],
   "source": [
    "### genre_ids\n",
    "print(train.genre_ids.nunique())\n",
    "print(test.genre_ids.nunique())"
   ]
  },
  {
   "cell_type": "code",
   "execution_count": 34,
   "metadata": {},
   "outputs": [],
   "source": [
    "train.genre_ids=train.genre_ids.fillna('0')\n",
    "test.genre_ids=test.genre_ids.fillna('0')"
   ]
  },
  {
   "cell_type": "code",
   "execution_count": 35,
   "metadata": {},
   "outputs": [
    {
     "data": {
      "text/plain": [
       "['359',\n",
       " '1259',\n",
       " '1019',\n",
       " '1011',\n",
       " '465',\n",
       " '2022',\n",
       " '458',\n",
       " '465|458',\n",
       " '0',\n",
       " '1609',\n",
       " '423',\n",
       " '921',\n",
       " '451',\n",
       " '437',\n",
       " '465|1259',\n",
       " '444',\n",
       " '921|458',\n",
       " '958',\n",
       " '829',\n",
       " '921|465',\n",
       " '691',\n",
       " '940|388',\n",
       " '880|458',\n",
       " '1616|1609',\n",
       " '1616',\n",
       " '139|125|109',\n",
       " '465|430',\n",
       " '1152|829',\n",
       " '139',\n",
       " '947',\n",
       " '2157',\n",
       " '940',\n",
       " '726',\n",
       " '786|726',\n",
       " '2122',\n",
       " '458|1287',\n",
       " '786|947',\n",
       " '465|1011',\n",
       " '864|850|726|857|843',\n",
       " '786',\n",
       " '786|2122',\n",
       " '242|726',\n",
       " '726|242',\n",
       " '352|1995',\n",
       " '444|1259',\n",
       " '698',\n",
       " '465|921',\n",
       " '893',\n",
       " '465|139',\n",
       " '2122|947|958',\n",
       " '958|786',\n",
       " '388',\n",
       " '2176|2093',\n",
       " '1152',\n",
       " '430',\n",
       " '465|2122',\n",
       " '1155',\n",
       " '1616|2058',\n",
       " '242',\n",
       " '2116|1616',\n",
       " '1180',\n",
       " '864|857|850|843',\n",
       " '465|2022',\n",
       " '1609|465',\n",
       " '873',\n",
       " '864|786|850|857|843',\n",
       " '1609|458',\n",
       " '864|850|857|921|843',\n",
       " '900',\n",
       " '2189|367',\n",
       " '798',\n",
       " '1572|275',\n",
       " '1609|282',\n",
       " '444|1609',\n",
       " '829|786',\n",
       " '2086',\n",
       " '545',\n",
       " 0,\n",
       " '437|850',\n",
       " 90,\n",
       " '465|798',\n",
       " '465|958',\n",
       " '864|843',\n",
       " '2079',\n",
       " '1605',\n",
       " '465|691',\n",
       " '880',\n",
       " '1955',\n",
       " '1609|2107',\n",
       " '184|2122',\n",
       " '409',\n",
       " '2072',\n",
       " '726|947',\n",
       " '1138',\n",
       " '893|458',\n",
       " '95',\n",
       " '388|940',\n",
       " '2130|947|2122|139|125|109|798|958',\n",
       " '481',\n",
       " '444|786',\n",
       " '649',\n",
       " '139|1259',\n",
       " '2107',\n",
       " '1609|2022',\n",
       " '786|947|726|958',\n",
       " '786|947|726',\n",
       " '850',\n",
       " '118|1259',\n",
       " '2022|359',\n",
       " '474',\n",
       " '465|1609',\n",
       " '907',\n",
       " '516',\n",
       " '465|786',\n",
       " '1180|139',\n",
       " '2189|958|367',\n",
       " '139|1259|125|109',\n",
       " '1180|465',\n",
       " '1995',\n",
       " '109|139',\n",
       " '1572',\n",
       " '94',\n",
       " '465|829',\n",
       " '921|359',\n",
       " '444|139',\n",
       " '2213|465',\n",
       " '1208',\n",
       " '458|359',\n",
       " '873|465',\n",
       " '1152|2022',\n",
       " '1152|465',\n",
       " '388|873',\n",
       " '531',\n",
       " '465|726',\n",
       " '242|947',\n",
       " '921|958',\n",
       " '873|786',\n",
       " '1152|242|947',\n",
       " '118',\n",
       " '786|958',\n",
       " '381|2086',\n",
       " '2086|374',\n",
       " '509',\n",
       " '352|275|1995|1572',\n",
       " '2157|921',\n",
       " '109',\n",
       " '1609|1259',\n",
       " '822',\n",
       " '1145',\n",
       " '444|829',\n",
       " '1082',\n",
       " '726|458',\n",
       " '1152|2122',\n",
       " '465|359',\n",
       " '1169',\n",
       " '2109',\n",
       " '1152|947',\n",
       " '940|1152',\n",
       " '2215',\n",
       " '430|359',\n",
       " '1152|786',\n",
       " '1609|359',\n",
       " '921|786',\n",
       " '1040',\n",
       " '1047',\n",
       " '2122|139',\n",
       " '958|947',\n",
       " '829|458',\n",
       " '1068',\n",
       " '2093',\n",
       " '843',\n",
       " '1630',\n",
       " '1054',\n",
       " '2122|947',\n",
       " '1977',\n",
       " '2130',\n",
       " '444|465',\n",
       " '444|921',\n",
       " '2189|798',\n",
       " '786|2086|374',\n",
       " '2130|2122',\n",
       " '465|139|125|109',\n",
       " '670',\n",
       " '465|947',\n",
       " '808',\n",
       " '921|2022',\n",
       " '751',\n",
       " '1609|2122',\n",
       " '2022|1955',\n",
       " '1259|139',\n",
       " '1152|921',\n",
       " '1273',\n",
       " '2022|2122',\n",
       " '880|102',\n",
       " '1988|1981|430',\n",
       " '275|1572|359',\n",
       " '139|444|109',\n",
       " '2022|531',\n",
       " '1969',\n",
       " '2122|786',\n",
       " '1609|2058',\n",
       " '829|2022',\n",
       " '465|139|1259',\n",
       " '864|850|2022|857|843',\n",
       " '198',\n",
       " '352',\n",
       " '1152|359',\n",
       " '1616|2176',\n",
       " '444|2022',\n",
       " '252',\n",
       " '2032',\n",
       " '786|947|2086|374',\n",
       " '786|947|2086|374|958',\n",
       " '1152|726',\n",
       " '900|465',\n",
       " '972',\n",
       " '979',\n",
       " '2022|1259',\n",
       " '829|430',\n",
       " '873|947',\n",
       " '109|1259',\n",
       " '2122|2189|367',\n",
       " '388|1152',\n",
       " '381|2086|374',\n",
       " '880|873',\n",
       " '1609|786',\n",
       " '880|873|947',\n",
       " '900|921',\n",
       " '465|139|958',\n",
       " '1011|691',\n",
       " '1180|1259',\n",
       " '359|139',\n",
       " '465|139|109',\n",
       " '1259|359',\n",
       " '1103',\n",
       " '1616|2072',\n",
       " '2022|1011',\n",
       " '1287',\n",
       " '965',\n",
       " '873|2022',\n",
       " '1609|509',\n",
       " '1152|786|947',\n",
       " '2122|423',\n",
       " '921|139',\n",
       " '864|850|857|2122|843',\n",
       " '2122|2086|374',\n",
       " '873|726',\n",
       " '139|359',\n",
       " '786|242',\n",
       " '465|388|958',\n",
       " '1007',\n",
       " '1280|2093',\n",
       " '1609|2086|374',\n",
       " '873|2086|374',\n",
       " '2206',\n",
       " '921|2206',\n",
       " '388|921',\n",
       " '465|1609|1103',\n",
       " '1259|139|125|109',\n",
       " '242|2022',\n",
       " '465|423',\n",
       " '786|1259',\n",
       " '993|751',\n",
       " '2183',\n",
       " '786|947|958',\n",
       " '880|726',\n",
       " '2100',\n",
       " '986',\n",
       " '2122|947|958|2022',\n",
       " '1000',\n",
       " '502',\n",
       " '921|947',\n",
       " '2122|947|2022|958',\n",
       " '212',\n",
       " '786|2122|947|2022',\n",
       " '2022|947',\n",
       " '921|726',\n",
       " '94|139',\n",
       " '465|139|94',\n",
       " '786|798',\n",
       " '465|94',\n",
       " '1633',\n",
       " '1201',\n",
       " '829|798',\n",
       " '139|125|109|2022',\n",
       " '109|118',\n",
       " '958|2122',\n",
       " '1965',\n",
       " '2122|786|947|958',\n",
       " '1981',\n",
       " '1568',\n",
       " '2122|786|947|2022',\n",
       " '1152|465|1180',\n",
       " '921|1259',\n",
       " '786|2122|947|958',\n",
       " '873|1259',\n",
       " '1616|2116',\n",
       " '465|109',\n",
       " '1152|786|947|2086|374|2122|958',\n",
       " '2022|2215',\n",
       " '465|2130',\n",
       " '177',\n",
       " '409|465',\n",
       " '2022|451',\n",
       " '712',\n",
       " '2248|1259',\n",
       " '726|958',\n",
       " '465|1955|2022',\n",
       " '1633|310',\n",
       " '2122|374',\n",
       " '744',\n",
       " '1568|2015',\n",
       " '2176',\n",
       " '2122|191',\n",
       " '656',\n",
       " '205',\n",
       " '465|451',\n",
       " '1180|2219',\n",
       " '184',\n",
       " '2157|1259',\n",
       " '1152|786|2086|374|2122|958',\n",
       " '545|726',\n",
       " '1152|423',\n",
       " '242|786',\n",
       " '921|947|2086|374',\n",
       " '1096',\n",
       " '2122|947|726',\n",
       " '786|2022',\n",
       " '2116|1609',\n",
       " '465|873',\n",
       " '864|465|242|850|1609|857|843',\n",
       " '1026',\n",
       " '465|921|2122',\n",
       " '338',\n",
       " '109|465',\n",
       " '958|2022',\n",
       " '416',\n",
       " '921|1011',\n",
       " '109|1138',\n",
       " '1152|2130|2086|374|2122',\n",
       " '786|947|2086|374|2122',\n",
       " '1280',\n",
       " '2130|2022',\n",
       " '465|2189|367',\n",
       " '1280|1145',\n",
       " '921|465|2022',\n",
       " '829|726',\n",
       " '880|873|786',\n",
       " '458|786',\n",
       " '947|2022|958',\n",
       " '947|958|2022',\n",
       " '458|139|109',\n",
       " '191',\n",
       " '1187',\n",
       " '1033',\n",
       " '880|545',\n",
       " '516|465',\n",
       " '1609|947|2022',\n",
       " '359|1259',\n",
       " '2130|947|2086|374|2122|958',\n",
       " '947|2122|139|125|109|958',\n",
       " '2122|1259',\n",
       " '465|2122|109',\n",
       " '2052',\n",
       " '726|691',\n",
       " '109|359',\n",
       " '2130|2122|958',\n",
       " '388|2189|367',\n",
       " '1180|2022',\n",
       " '125|95',\n",
       " '1152|873',\n",
       " '1152|873|947',\n",
       " '1145|1110',\n",
       " '2172',\n",
       " '2100|1969',\n",
       " '1609|940|2086',\n",
       " '1152|691',\n",
       " '2022|786',\n",
       " '921|1609',\n",
       " '275|1572|2022',\n",
       " '465|409',\n",
       " '2122|958',\n",
       " '409|958',\n",
       " '465|1145',\n",
       " '1145|2122',\n",
       " '465|1180|2189|367',\n",
       " '940|786',\n",
       " '1633|465',\n",
       " '388|2189|958|367',\n",
       " '1152|940',\n",
       " '488',\n",
       " '719',\n",
       " '2194',\n",
       " '2122|139|125|109',\n",
       " '465|242',\n",
       " '198|2122',\n",
       " '437|1287',\n",
       " '726|2122',\n",
       " '829|359',\n",
       " '2122|691',\n",
       " '1616|2065',\n",
       " '1152|947|958',\n",
       " '1568|465',\n",
       " '388|465',\n",
       " '1138|2122',\n",
       " '2029',\n",
       " '139|691',\n",
       " '1609|958',\n",
       " '921|893',\n",
       " '1040|1155',\n",
       " '451|1259',\n",
       " '374',\n",
       " '864|465|850|857|843',\n",
       " '798|786',\n",
       " '430|139',\n",
       " '1969|444|2100',\n",
       " '1266',\n",
       " '1152|873|2122|958',\n",
       " '1598',\n",
       " '1609|139|125|109',\n",
       " '947|726|958',\n",
       " '1969|1609|2100',\n",
       " '402',\n",
       " '465|691|2189|367',\n",
       " '880|786',\n",
       " '921|1609|786',\n",
       " '921|873',\n",
       " '444|958',\n",
       " '2022|242',\n",
       " '1988|430',\n",
       " '2245|242',\n",
       " '798|2022',\n",
       " '947|2122|139|125|109',\n",
       " '1180|1152',\n",
       " '1162',\n",
       " '947|139|125|109',\n",
       " '1944',\n",
       " '1131',\n",
       " '388|786',\n",
       " '1609|2122|2022',\n",
       " '465|2122|139',\n",
       " '921|2130',\n",
       " '2086|374|139|125|109',\n",
       " '1609|242',\n",
       " '152',\n",
       " '1609|947|726|2022',\n",
       " '437|359',\n",
       " '1145|1103',\n",
       " '873|958',\n",
       " '1194',\n",
       " '465|1103',\n",
       " '829|822',\n",
       " '921|465|958',\n",
       " '2150',\n",
       " '94|95',\n",
       " '1609|139',\n",
       " '921|2122',\n",
       " '465|2122|423',\n",
       " '1145|423',\n",
       " '465|958|2022',\n",
       " '465|531',\n",
       " '388|691',\n",
       " '1944|310',\n",
       " '1152|465|958',\n",
       " '1609|2122|958',\n",
       " '1152|1609',\n",
       " '2192',\n",
       " '331',\n",
       " '786|1011',\n",
       " '87',\n",
       " '873|139|125|109',\n",
       " '275|1955|1572',\n",
       " '451|2189|367',\n",
       " '1117',\n",
       " '1633|359',\n",
       " '786|947|1609|2122|958',\n",
       " '458|2130',\n",
       " '109|2122',\n",
       " '656|1011',\n",
       " '1124',\n",
       " '2022|430',\n",
       " '139|125|95',\n",
       " '786|139|125|109',\n",
       " '940|1609',\n",
       " '275|531|1572',\n",
       " '1152|873|726|958',\n",
       " '1096|958',\n",
       " '921|1633',\n",
       " '465|1145|2122',\n",
       " '1633|2022',\n",
       " '1969|275|2100|1572',\n",
       " '465|1011|691',\n",
       " '242|691',\n",
       " '958|691',\n",
       " '786|359',\n",
       " '829|2130',\n",
       " '423|531',\n",
       " '2245',\n",
       " '2127',\n",
       " '786|691',\n",
       " '1609|2122|786',\n",
       " '2022|958',\n",
       " '2008|296',\n",
       " '921|900|893',\n",
       " '1609|2122|2022|958',\n",
       " '2144|458',\n",
       " '2189',\n",
       " '545|2022',\n",
       " '458|531',\n",
       " '1152|1609|921|2122|1259|958',\n",
       " '1579',\n",
       " '465|1138',\n",
       " '2022|691',\n",
       " '1609|947|2086|374',\n",
       " '921|423',\n",
       " '275|1572|829',\n",
       " '109|94',\n",
       " '465|2213|2215',\n",
       " '430|691',\n",
       " '1208|423',\n",
       " '2022|1609|139|125|109',\n",
       " '1152|242',\n",
       " '2015',\n",
       " '921|451',\n",
       " '1110',\n",
       " '677',\n",
       " '1201|1187',\n",
       " '1152|947|2086|374|2122|958',\n",
       " '779',\n",
       " '1609|1969|2100',\n",
       " '786|947|2122|139|125|109|958',\n",
       " '1011|2189|367',\n",
       " '829|1138',\n",
       " '388|509',\n",
       " '437|2022',\n",
       " '786|947|2022|2122|958',\n",
       " '465|2022|359',\n",
       " '465|921|139',\n",
       " '1609|275|1572',\n",
       " '545|1259',\n",
       " '921|465|139',\n",
       " '465|2130|139',\n",
       " '1152|388',\n",
       " '444|359',\n",
       " '109|921',\n",
       " '465|2022|958',\n",
       " '1011|359',\n",
       " '829|437',\n",
       " '921|798',\n",
       " '1969|2100|2022',\n",
       " '388|2122',\n",
       " '275|1572|444',\n",
       " '465|1259|1180',\n",
       " '1609|921',\n",
       " '430|1011',\n",
       " '940|726',\n",
       " '880|430',\n",
       " '437|139',\n",
       " '1616|2109',\n",
       " '829|1011',\n",
       " '2144',\n",
       " '2065',\n",
       " '388|139',\n",
       " '880|465',\n",
       " '1572|2065',\n",
       " '388|1011',\n",
       " '873|2122',\n",
       " '829|242',\n",
       " '947|2022|2122|1259|958',\n",
       " '545|430',\n",
       " '1152|2122|786|947',\n",
       " '900|958',\n",
       " '1152|458',\n",
       " '1180|437',\n",
       " '1609|947']"
      ]
     },
     "execution_count": 35,
     "metadata": {},
     "output_type": "execute_result"
    }
   ],
   "source": [
    "train.genre_ids.unique().tolist()\n"
   ]
  },
  {
   "cell_type": "code",
   "execution_count": 36,
   "metadata": {},
   "outputs": [],
   "source": [
    "# from above data, we can see that there are some songs with mutilple genres.\n",
    "def genres_count(x):\n",
    "    if type(x) != str:\n",
    "        return 1\n",
    "    else:\n",
    "        return 1 + x.count('|')"
   ]
  },
  {
   "cell_type": "code",
   "execution_count": 37,
   "metadata": {},
   "outputs": [
    {
     "name": "stdout",
     "output_type": "stream",
     "text": [
      "8\n",
      "8\n"
     ]
    }
   ],
   "source": [
    "train[\"num_genre\"]=train.genre_ids.apply(genres_count)\n",
    "test[\"num_genre\"]=test.genre_ids.apply(genres_count)\n",
    "print(train['num_genre'].max())\n",
    "print(test['num_genre'].max())\n",
    "# there are most 8 genres for one song in train set"
   ]
  },
  {
   "cell_type": "code",
   "execution_count": 38,
   "metadata": {},
   "outputs": [
    {
     "name": "stdout",
     "output_type": "stream",
     "text": [
      "40575\n",
      "27558\n"
     ]
    }
   ],
   "source": [
    "# artist_name\n",
    "\n",
    "print(train.artist_name.nunique())\n",
    "print(test.artist_name.nunique())\n",
    "\n",
    "train.artist_name=train.artist_name.fillna('unknwon')\n",
    "test.artist_name=test.artist_name.fillna('unknwon')\n",
    "\n",
    "def artist_count(x):\n",
    "    if type(x) != str:\n",
    "        return 1\n",
    "    else:\n",
    "        return x.count('and') + x.count('|') + x.count( '/') + x.count('\\\\') + x.count(';') + x.count(',') + x.count('feat') + x.count('&') + 1\n",
    "\n",
    "train['num_artist'] = train.artist_name.apply(artist_count)\n",
    "test['num_artist'] = test.artist_name.apply(artist_count)\n",
    "\n"
   ]
  },
  {
   "cell_type": "code",
   "execution_count": null,
   "metadata": {},
   "outputs": [],
   "source": []
  },
  {
   "cell_type": "code",
   "execution_count": 39,
   "metadata": {},
   "outputs": [
    {
     "data": {
      "text/plain": [
       "count    7.377418e+06\n",
       "mean     1.044201e+00\n",
       "std      2.593254e-01\n",
       "min      1.000000e+00\n",
       "25%      1.000000e+00\n",
       "50%      1.000000e+00\n",
       "75%      1.000000e+00\n",
       "max      2.500000e+01\n",
       "Name: num_artist, dtype: float64"
      ]
     },
     "execution_count": 39,
     "metadata": {},
     "output_type": "execute_result"
    }
   ],
   "source": [
    "train.num_artist.describe()"
   ]
  },
  {
   "cell_type": "code",
   "execution_count": 40,
   "metadata": {},
   "outputs": [
    {
     "name": "stdout",
     "output_type": "stream",
     "text": [
      "76055\n",
      "52302\n"
     ]
    }
   ],
   "source": [
    "# composer\n",
    "print(train.composer.nunique())\n",
    "print(test.composer.nunique())\n",
    "train.composer=train.composer.fillna('unknwon')\n",
    "test.composer=test.composer.fillna('unknwon')"
   ]
  },
  {
   "cell_type": "code",
   "execution_count": 41,
   "metadata": {},
   "outputs": [],
   "source": [
    "\n",
    "def composer_count(x):\n",
    "    if type(x) != str:\n",
    "        return 1\n",
    "    else:\n",
    "        return x.count('and') + x.count('|') + x.count( '/') + x.count('\\\\') + x.count(';') + x.count(',') + x.count('feat') + x.count('&') + 1\n",
    "\n",
    "train['num_composer'] = train.composer.apply(composer_count).astype(np.int32)\n",
    "test['num_composer'] = test.composer.apply(composer_count).astype(np.int32)\n"
   ]
  },
  {
   "cell_type": "code",
   "execution_count": 42,
   "metadata": {},
   "outputs": [
    {
     "data": {
      "text/plain": [
       "count    7.377418e+06\n",
       "mean     1.634492e+00\n",
       "std      1.536360e+00\n",
       "min      1.000000e+00\n",
       "25%      1.000000e+00\n",
       "50%      1.000000e+00\n",
       "75%      1.000000e+00\n",
       "max      5.470000e+02\n",
       "Name: num_composer, dtype: float64"
      ]
     },
     "execution_count": 42,
     "metadata": {},
     "output_type": "execute_result"
    }
   ],
   "source": [
    "train.num_composer.describe()"
   ]
  },
  {
   "cell_type": "code",
   "execution_count": 43,
   "metadata": {},
   "outputs": [
    {
     "data": {
      "text/plain": [
       "count    2.556790e+06\n",
       "mean     1.654612e+00\n",
       "std      1.540358e+00\n",
       "min      1.000000e+00\n",
       "25%      1.000000e+00\n",
       "50%      1.000000e+00\n",
       "75%      2.000000e+00\n",
       "max      5.470000e+02\n",
       "Name: num_composer, dtype: float64"
      ]
     },
     "execution_count": 43,
     "metadata": {},
     "output_type": "execute_result"
    }
   ],
   "source": [
    "test.num_composer.describe()"
   ]
  },
  {
   "cell_type": "code",
   "execution_count": 44,
   "metadata": {},
   "outputs": [
    {
     "name": "stdout",
     "output_type": "stream",
     "text": [
      "33888\n",
      "24908\n"
     ]
    }
   ],
   "source": [
    "# lyricist \n",
    "print(train.lyricist.nunique())\n",
    "print(test.lyricist.nunique())"
   ]
  },
  {
   "cell_type": "code",
   "execution_count": 45,
   "metadata": {},
   "outputs": [],
   "source": [
    "train.lyricist=train.lyricist.fillna('unknwon')\n",
    "test.lyricist=test.lyricist.fillna('unknwon')\n",
    "def lyricist_count(x):\n",
    "    if type(x) != str:\n",
    "        return 1\n",
    "    else:\n",
    "        return x.count('and') + x.count('|') + x.count( '/') + x.count('\\\\') + x.count(';') + x.count(',') + x.count('feat') + x.count('&') + 1\n",
    "\n",
    "train['num_composer'] = train.composer.apply(lyricist_count).astype(np.int32)\n",
    "test['num_composer'] = test.composer.apply(lyricist_count).astype(np.int32)\n"
   ]
  },
  {
   "cell_type": "code",
   "execution_count": 46,
   "metadata": {},
   "outputs": [],
   "source": [
    "# song name\n",
    "train.name=train.name.fillna('unknwon')\n",
    "test.name=test.name.fillna('unknwon')"
   ]
  },
  {
   "cell_type": "code",
   "execution_count": 47,
   "metadata": {},
   "outputs": [],
   "source": [
    "# song irsc expand\n",
    "train.country=train.country.fillna('unknwon')\n",
    "test.country=test.country.fillna('unknwon')\n",
    "\n",
    "train.publisher=train.publisher.fillna('unknwon')\n",
    "test.publisher=test.publisher.fillna('unknwon')\n",
    "\n",
    "train.year_released=train.year_released.fillna('unknwon')\n",
    "test.year_released=test.year_released.fillna('unknwon')\n",
    "\n"
   ]
  },
  {
   "cell_type": "code",
   "execution_count": 48,
   "metadata": {},
   "outputs": [
    {
     "data": {
      "text/plain": [
       "msno                  0\n",
       "song_id               0\n",
       "source_system_tab     0\n",
       "source_screen_name    0\n",
       "source_type           0\n",
       "target                0\n",
       "city                  0\n",
       "age                   0\n",
       "gender                0\n",
       "registered_via        0\n",
       "registration_year     0\n",
       "registration_month    0\n",
       "expiration_year       0\n",
       "expiration_month      0\n",
       "days                  0\n",
       "age_range             0\n",
       "song_length           0\n",
       "genre_ids             0\n",
       "artist_name           0\n",
       "composer              0\n",
       "lyricist              0\n",
       "language              0\n",
       "name                  0\n",
       "country               0\n",
       "publisher             0\n",
       "year_released         0\n",
       "num_genre             0\n",
       "num_artist            0\n",
       "num_composer          0\n",
       "dtype: int64"
      ]
     },
     "execution_count": 48,
     "metadata": {},
     "output_type": "execute_result"
    }
   ],
   "source": [
    "train.isnull().sum()"
   ]
  },
  {
   "cell_type": "code",
   "execution_count": 49,
   "metadata": {},
   "outputs": [
    {
     "data": {
      "text/plain": [
       "id                    0\n",
       "msno                  0\n",
       "song_id               0\n",
       "source_system_tab     0\n",
       "source_screen_name    0\n",
       "source_type           0\n",
       "city                  0\n",
       "age                   0\n",
       "gender                0\n",
       "registered_via        0\n",
       "registration_year     0\n",
       "registration_month    0\n",
       "expiration_year       0\n",
       "expiration_month      0\n",
       "days                  0\n",
       "age_range             0\n",
       "song_length           0\n",
       "genre_ids             0\n",
       "artist_name           0\n",
       "composer              0\n",
       "lyricist              0\n",
       "language              0\n",
       "name                  0\n",
       "country               0\n",
       "publisher             0\n",
       "year_released         0\n",
       "num_genre             0\n",
       "num_artist            0\n",
       "num_composer          0\n",
       "dtype: int64"
      ]
     },
     "execution_count": 49,
     "metadata": {},
     "output_type": "execute_result"
    }
   ],
   "source": [
    "test.isnull().sum()"
   ]
  },
  {
   "cell_type": "code",
   "execution_count": 50,
   "metadata": {},
   "outputs": [
    {
     "name": "stdout",
     "output_type": "stream",
     "text": [
      "<class 'pandas.core.frame.DataFrame'>\n",
      "RangeIndex: 7377418 entries, 0 to 7377417\n",
      "Data columns (total 29 columns):\n",
      "msno                  object\n",
      "song_id               object\n",
      "source_system_tab     object\n",
      "source_screen_name    object\n",
      "source_type           object\n",
      "target                int64\n",
      "city                  int64\n",
      "age                   float64\n",
      "gender                object\n",
      "registered_via        int64\n",
      "registration_year     int64\n",
      "registration_month    int64\n",
      "expiration_year       int64\n",
      "expiration_month      int64\n",
      "days                  int64\n",
      "age_range             category\n",
      "song_length           int64\n",
      "genre_ids             object\n",
      "artist_name           object\n",
      "composer              object\n",
      "lyricist              object\n",
      "language              int16\n",
      "name                  object\n",
      "country               object\n",
      "publisher             object\n",
      "year_released         object\n",
      "num_genre             int64\n",
      "num_artist            int64\n",
      "num_composer          int32\n",
      "dtypes: category(1), float64(1), int16(1), int32(1), int64(11), object(14)\n",
      "memory usage: 1.5+ GB\n"
     ]
    }
   ],
   "source": [
    "train.info()"
   ]
  },
  {
   "cell_type": "code",
   "execution_count": 51,
   "metadata": {},
   "outputs": [],
   "source": [
    "## trans object types to category\n",
    "\n",
    "train = pd.concat([\n",
    "        train.select_dtypes([], ['object']),\n",
    "        train.select_dtypes(['object']).apply(pd.Series.astype, dtype='category')\n",
    "        ], axis=1).reindex(train.columns, axis=1)\n",
    "\n",
    "test = pd.concat([\n",
    "        test.select_dtypes([], ['object']),\n",
    "        test.select_dtypes(['object']).apply(pd.Series.astype, dtype='category')\n",
    "        ], axis=1).reindex(test.columns, axis=1)"
   ]
  },
  {
   "cell_type": "code",
   "execution_count": 52,
   "metadata": {},
   "outputs": [],
   "source": [
    "# encoding \n",
    "for col in train.select_dtypes(include=['category']).columns:\n",
    "    train[col] = train[col].cat.codes\n",
    "\n",
    "    \n",
    "    \n",
    "for col in test.select_dtypes(include=['category']).columns:\n",
    "    test[col] = test[col].cat.codes"
   ]
  },
  {
   "cell_type": "code",
   "execution_count": 60,
   "metadata": {},
   "outputs": [
    {
     "name": "stdout",
     "output_type": "stream",
     "text": [
      "<class 'pandas.core.frame.DataFrame'>\n",
      "RangeIndex: 7377418 entries, 0 to 7377417\n",
      "Data columns (total 29 columns):\n",
      "msno                  int16\n",
      "song_id               int32\n",
      "source_system_tab     int8\n",
      "source_screen_name    int8\n",
      "source_type           int8\n",
      "target                int64\n",
      "city                  int64\n",
      "age                   int32\n",
      "gender                int8\n",
      "registered_via        int64\n",
      "registration_year     int64\n",
      "registration_month    int64\n",
      "expiration_year       int64\n",
      "expiration_month      int64\n",
      "days                  int64\n",
      "age_range             int8\n",
      "song_length           int64\n",
      "genre_ids             int16\n",
      "artist_name           int32\n",
      "composer              int32\n",
      "lyricist              int32\n",
      "language              int16\n",
      "name                  int32\n",
      "country               int8\n",
      "publisher             int16\n",
      "year_released         int8\n",
      "num_genre             int64\n",
      "num_artist            int64\n",
      "num_composer          int32\n",
      "dtypes: int16(4), int32(7), int64(11), int8(7)\n",
      "memory usage: 921.7 MB\n"
     ]
    }
   ],
   "source": [
    "train.info()"
   ]
  },
  {
   "cell_type": "code",
   "execution_count": 59,
   "metadata": {},
   "outputs": [
    {
     "name": "stdout",
     "output_type": "stream",
     "text": [
      "<class 'pandas.core.frame.DataFrame'>\n",
      "RangeIndex: 2556790 entries, 0 to 2556789\n",
      "Data columns (total 29 columns):\n",
      "id                    int64\n",
      "msno                  int16\n",
      "song_id               int32\n",
      "source_system_tab     int8\n",
      "source_screen_name    int8\n",
      "source_type           int8\n",
      "city                  int64\n",
      "age                   int32\n",
      "gender                int8\n",
      "registered_via        int64\n",
      "registration_year     int64\n",
      "registration_month    int64\n",
      "expiration_year       int64\n",
      "expiration_month      int64\n",
      "days                  int64\n",
      "age_range             int8\n",
      "song_length           int64\n",
      "genre_ids             int16\n",
      "artist_name           int16\n",
      "composer              int32\n",
      "lyricist              int16\n",
      "language              int16\n",
      "name                  int32\n",
      "country               int8\n",
      "publisher             int16\n",
      "year_released         int8\n",
      "num_genre             int64\n",
      "num_artist            int64\n",
      "num_composer          int32\n",
      "dtypes: int16(6), int32(5), int64(11), int8(7)\n",
      "memory usage: 309.7 MB\n"
     ]
    }
   ],
   "source": [
    "test.info()"
   ]
  },
  {
   "cell_type": "code",
   "execution_count": 57,
   "metadata": {},
   "outputs": [],
   "source": [
    "train.age=train.age.astype('int32')"
   ]
  },
  {
   "cell_type": "code",
   "execution_count": 58,
   "metadata": {},
   "outputs": [],
   "source": [
    "test.age=test.age.astype('int32')"
   ]
  },
  {
   "cell_type": "code",
   "execution_count": 61,
   "metadata": {},
   "outputs": [],
   "source": [
    "train.to_csv('train_processed.csv', index=False)\n",
    "test.to_csv('test_processed.csv', index=False)"
   ]
  },
  {
   "cell_type": "code",
   "execution_count": null,
   "metadata": {},
   "outputs": [],
   "source": []
  }
 ],
 "metadata": {
  "kernelspec": {
   "display_name": "Python 3",
   "language": "python",
   "name": "python3"
  },
  "language_info": {
   "codemirror_mode": {
    "name": "ipython",
    "version": 3
   },
   "file_extension": ".py",
   "mimetype": "text/x-python",
   "name": "python",
   "nbconvert_exporter": "python",
   "pygments_lexer": "ipython3",
   "version": "3.7.1"
  }
 },
 "nbformat": 4,
 "nbformat_minor": 2
}
